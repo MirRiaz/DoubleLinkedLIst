{
 "cells": [
  {
   "cell_type": "code",
   "execution_count": 3,
   "id": "688b17aa",
   "metadata": {},
   "outputs": [
    {
     "name": "stdout",
     "output_type": "stream",
     "text": [
      "[1 , 5 , 5 , 5 , 5 , 5 , 5 , 6 , 10 , 11]\n",
      "[10 , 11]\n"
     ]
    }
   ],
   "source": [
    "class Node:\n",
    "    def __init__(self, value):\n",
    "        self.next = None\n",
    "        self.prev = None\n",
    "        self.val = value\n",
    "\n",
    "\n",
    "class DoubleLinkedList:\n",
    "    def __init__(self):\n",
    "        self.head = None\n",
    "        self.tail = None   #Our Node is None size 0\n",
    "        self.size = 0\n",
    "\n",
    "    def add(self, val):\n",
    "        node = Node(val)\n",
    "        if self.tail is None:\n",
    "            self.head = node\n",
    "            self.tail = node\n",
    "            self.size += 1\n",
    "        else:\n",
    "            self.tail.next = node\n",
    "            node.prev = self.tail\n",
    "            self.tail = node\n",
    "            self.size += 1\n",
    "\n",
    "    def __remove_node(self, node):\n",
    "        if node.prev is None:\n",
    "            self.head = node.next\n",
    "        else:\n",
    "            node.prev.next = node.next\n",
    "\n",
    "        if node.next is None:\n",
    "            self.tail = node.prev\n",
    "        else:\n",
    "            node.next.prev = node.prev\n",
    "\n",
    "    def remove(self, value):\n",
    "        node = self.head\n",
    "        while node is not None:\n",
    "            if node.val == value:\n",
    "                self.__remove_node(node)\n",
    "            node = node.next\n",
    "\n",
    "\n",
    "    def __str__(self):\n",
    "        vals = []\n",
    "        node = self.head\n",
    "        while node is not None:\n",
    "            vals.append(node.val)\n",
    "            node = node.next\n",
    "        return f\"[{' , '.join(str(val)for val in vals)}]\"\n",
    "\n",
    "\n",
    "my_list = DoubleLinkedList()\n",
    "my_list.add(1)\n",
    "my_list.add(5)\n",
    "my_list.add(5)\n",
    "my_list.add(5)\n",
    "my_list.add(5)\n",
    "my_list.add(5)\n",
    "my_list.add(5)\n",
    "\n",
    "my_list.add(6)\n",
    "my_list.add(10)\n",
    "my_list.add(11)\n",
    "print(my_list)\n",
    "my_list.remove(5)\n",
    "my_list.remove(6)\n",
    "my_list.remove(1)\n",
    "print(my_list)\n",
    "\n"
   ]
  },
  {
   "cell_type": "code",
   "execution_count": null,
   "id": "cdce8bed",
   "metadata": {},
   "outputs": [],
   "source": []
  }
 ],
 "metadata": {
  "kernelspec": {
   "display_name": "Python 3 (ipykernel)",
   "language": "python",
   "name": "python3"
  },
  "language_info": {
   "codemirror_mode": {
    "name": "ipython",
    "version": 3
   },
   "file_extension": ".py",
   "mimetype": "text/x-python",
   "name": "python",
   "nbconvert_exporter": "python",
   "pygments_lexer": "ipython3",
   "version": "3.9.13"
  }
 },
 "nbformat": 4,
 "nbformat_minor": 5
}
